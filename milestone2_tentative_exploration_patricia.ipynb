{
 "cells": [
  {
   "cell_type": "code",
   "execution_count": 1,
   "id": "ca2b4fa3-4254-47af-b544-480c1a8135d7",
   "metadata": {},
   "outputs": [],
   "source": [
    "import bz2\n",
    "import json\n",
    "import pandas as pd"
   ]
  },
  {
   "cell_type": "code",
   "execution_count": 2,
   "id": "8e85dbeb-fe75-4e29-8b2b-34368da944dd",
   "metadata": {},
   "outputs": [],
   "source": [
    "with bz2.open('quotes-2019-nytimes.json.bz2', \"rt\") as bzinput:\n",
    "    lines = []\n",
    "    for i, line in enumerate(bzinput):\n",
    "        tweets = json.loads(line)\n",
    "        lines.append(tweets)"
   ]
  },
  {
   "cell_type": "code",
   "execution_count": 3,
   "id": "b6ce3de2-23fd-430e-b6f5-43b33e36544a",
   "metadata": {},
   "outputs": [],
   "source": [
    "quotebank = pd.DataFrame(lines)"
   ]
  },
  {
   "cell_type": "code",
   "execution_count": 4,
   "id": "d7b15b53-3a1d-4299-a047-0edbcb8707cd",
   "metadata": {},
   "outputs": [
    {
     "data": {
      "text/html": [
       "<div>\n",
       "<style scoped>\n",
       "    .dataframe tbody tr th:only-of-type {\n",
       "        vertical-align: middle;\n",
       "    }\n",
       "\n",
       "    .dataframe tbody tr th {\n",
       "        vertical-align: top;\n",
       "    }\n",
       "\n",
       "    .dataframe thead th {\n",
       "        text-align: right;\n",
       "    }\n",
       "</style>\n",
       "<table border=\"1\" class=\"dataframe\">\n",
       "  <thead>\n",
       "    <tr style=\"text-align: right;\">\n",
       "      <th></th>\n",
       "      <th>quoteID</th>\n",
       "      <th>quotation</th>\n",
       "      <th>speaker</th>\n",
       "      <th>qids</th>\n",
       "      <th>date</th>\n",
       "      <th>numOccurrences</th>\n",
       "      <th>probas</th>\n",
       "      <th>urls</th>\n",
       "      <th>phase</th>\n",
       "    </tr>\n",
       "  </thead>\n",
       "  <tbody>\n",
       "    <tr>\n",
       "      <th>0</th>\n",
       "      <td>2019-04-17-024782</td>\n",
       "      <td>It is not a low-income immigration,</td>\n",
       "      <td>James Fisher</td>\n",
       "      <td>[Q16213953, Q20707104, Q43143598, Q58886302, Q...</td>\n",
       "      <td>2019-04-17 13:31:18</td>\n",
       "      <td>1</td>\n",
       "      <td>[[James Fisher, 0.7475], [None, 0.2525]]</td>\n",
       "      <td>[https://www.nytimes.com/2019/04/17/realestate...</td>\n",
       "      <td>E</td>\n",
       "    </tr>\n",
       "    <tr>\n",
       "      <th>1</th>\n",
       "      <td>2019-04-02-001128</td>\n",
       "      <td>a champion figure skater switching to roller s...</td>\n",
       "      <td>John Updike</td>\n",
       "      <td>[Q105756]</td>\n",
       "      <td>2019-04-02 14:58:33</td>\n",
       "      <td>2</td>\n",
       "      <td>[[John Updike, 0.5856], [None, 0.4144]]</td>\n",
       "      <td>[https://www.nytimes.com/2019/04/02/opinion/vl...</td>\n",
       "      <td>E</td>\n",
       "    </tr>\n",
       "    <tr>\n",
       "      <th>2</th>\n",
       "      <td>2019-05-09-055187</td>\n",
       "      <td>It makes it much more difficult for him to mak...</td>\n",
       "      <td>None</td>\n",
       "      <td>[]</td>\n",
       "      <td>2019-05-09 18:11:29</td>\n",
       "      <td>1</td>\n",
       "      <td>[[None, 0.6493], [President Bill Clinton, 0.27...</td>\n",
       "      <td>[http://mobile.nytimes.com/2019/05/09/world/as...</td>\n",
       "      <td>E</td>\n",
       "    </tr>\n",
       "    <tr>\n",
       "      <th>3</th>\n",
       "      <td>2019-10-31-056366</td>\n",
       "      <td>It puts me in a predicament,</td>\n",
       "      <td>Xavier Becerra</td>\n",
       "      <td>[Q1855840]</td>\n",
       "      <td>2019-10-31 16:45:15</td>\n",
       "      <td>3</td>\n",
       "      <td>[[Xavier Becerra, 0.9065], [None, 0.0909], [St...</td>\n",
       "      <td>[http://www.nytimes.com/2019/10/31/technology/...</td>\n",
       "      <td>E</td>\n",
       "    </tr>\n",
       "    <tr>\n",
       "      <th>4</th>\n",
       "      <td>2019-01-04-001792</td>\n",
       "      <td>A Pile of Leaves.</td>\n",
       "      <td>None</td>\n",
       "      <td>[]</td>\n",
       "      <td>2019-01-04 10:00:07</td>\n",
       "      <td>1</td>\n",
       "      <td>[[None, 0.8737], [Jason Fulford, 0.1263]]</td>\n",
       "      <td>[https://www.nytimes.com/2019/01/04/books/revi...</td>\n",
       "      <td>E</td>\n",
       "    </tr>\n",
       "  </tbody>\n",
       "</table>\n",
       "</div>"
      ],
      "text/plain": [
       "             quoteID                                          quotation  \\\n",
       "0  2019-04-17-024782                It is not a low-income immigration,   \n",
       "1  2019-04-02-001128  a champion figure skater switching to roller s...   \n",
       "2  2019-05-09-055187  It makes it much more difficult for him to mak...   \n",
       "3  2019-10-31-056366                       It puts me in a predicament,   \n",
       "4  2019-01-04-001792                                  A Pile of Leaves.   \n",
       "\n",
       "          speaker                                               qids  \\\n",
       "0    James Fisher  [Q16213953, Q20707104, Q43143598, Q58886302, Q...   \n",
       "1     John Updike                                          [Q105756]   \n",
       "2            None                                                 []   \n",
       "3  Xavier Becerra                                         [Q1855840]   \n",
       "4            None                                                 []   \n",
       "\n",
       "                  date  numOccurrences  \\\n",
       "0  2019-04-17 13:31:18               1   \n",
       "1  2019-04-02 14:58:33               2   \n",
       "2  2019-05-09 18:11:29               1   \n",
       "3  2019-10-31 16:45:15               3   \n",
       "4  2019-01-04 10:00:07               1   \n",
       "\n",
       "                                              probas  \\\n",
       "0           [[James Fisher, 0.7475], [None, 0.2525]]   \n",
       "1            [[John Updike, 0.5856], [None, 0.4144]]   \n",
       "2  [[None, 0.6493], [President Bill Clinton, 0.27...   \n",
       "3  [[Xavier Becerra, 0.9065], [None, 0.0909], [St...   \n",
       "4          [[None, 0.8737], [Jason Fulford, 0.1263]]   \n",
       "\n",
       "                                                urls phase  \n",
       "0  [https://www.nytimes.com/2019/04/17/realestate...     E  \n",
       "1  [https://www.nytimes.com/2019/04/02/opinion/vl...     E  \n",
       "2  [http://mobile.nytimes.com/2019/05/09/world/as...     E  \n",
       "3  [http://www.nytimes.com/2019/10/31/technology/...     E  \n",
       "4  [https://www.nytimes.com/2019/01/04/books/revi...     E  "
      ]
     },
     "execution_count": 4,
     "metadata": {},
     "output_type": "execute_result"
    }
   ],
   "source": [
    "quotebank.head()"
   ]
  },
  {
   "cell_type": "markdown",
   "id": "b507211e",
   "metadata": {},
   "source": [
    "# Women content of quote"
   ]
  },
  {
   "cell_type": "code",
   "execution_count": 19,
   "id": "bf72b664-9049-4018-8472-3a947f4fd634",
   "metadata": {},
   "outputs": [
    {
     "data": {
      "text/plain": [
       "1099"
      ]
     },
     "execution_count": 19,
     "metadata": {},
     "output_type": "execute_result"
    }
   ],
   "source": [
    "woman_called = quotebank.loc[quotebank['quotation'].str.contains(\"woman\", case=False)]\n",
    "woman_called.head(2)\n",
    "len(woman_called)"
   ]
  },
  {
   "cell_type": "code",
   "execution_count": 21,
   "id": "310df71a",
   "metadata": {},
   "outputs": [
    {
     "data": {
      "text/plain": [
       "2366"
      ]
     },
     "execution_count": 21,
     "metadata": {},
     "output_type": "execute_result"
    }
   ],
   "source": [
    "women_called = quotebank.loc[quotebank['quotation'].str.contains(\"women\", case=False)]\n",
    "women_called.head(2)\n",
    "len(women_called)"
   ]
  },
  {
   "cell_type": "code",
   "execution_count": 10,
   "id": "0bf3b481",
   "metadata": {},
   "outputs": [
    {
     "data": {
      "text/plain": [
       "910"
      ]
     },
     "execution_count": 10,
     "metadata": {},
     "output_type": "execute_result"
    }
   ],
   "source": [
    "girl_called = quotebank.loc[quotebank['quotation'].str.contains(\"girl\", case=False)]\n",
    "girl_called.head(2)\n",
    "len(girl_called)"
   ]
  },
  {
   "cell_type": "code",
   "execution_count": 12,
   "id": "09a7c4e2",
   "metadata": {},
   "outputs": [
    {
     "data": {
      "text/plain": [
       "167"
      ]
     },
     "execution_count": 12,
     "metadata": {},
     "output_type": "execute_result"
    }
   ],
   "source": [
    "lady_called = quotebank.loc[quotebank['quotation'].str.contains(\"lady\", case=False)]\n",
    "lady_called.head(2)\n",
    "len(lady_called)"
   ]
  },
  {
   "cell_type": "code",
   "execution_count": 13,
   "id": "b4be9835",
   "metadata": {},
   "outputs": [
    {
     "data": {
      "text/plain": [
       "34"
      ]
     },
     "execution_count": 13,
     "metadata": {},
     "output_type": "execute_result"
    }
   ],
   "source": [
    "bitch_called = quotebank.loc[quotebank['quotation'].str.contains(\"bitch\", case=False)]\n",
    "bitch_called.head(2)\n",
    "len(bitch_called)"
   ]
  },
  {
   "cell_type": "code",
   "execution_count": 14,
   "id": "99b62f8c",
   "metadata": {},
   "outputs": [
    {
     "data": {
      "text/plain": [
       "5"
      ]
     },
     "execution_count": 14,
     "metadata": {},
     "output_type": "execute_result"
    }
   ],
   "source": [
    "slut_called = quotebank.loc[quotebank['quotation'].str.contains(\"slut\", case=False)]\n",
    "slut_called.head(2)\n",
    "len(slut_called)"
   ]
  },
  {
   "cell_type": "code",
   "execution_count": 17,
   "id": "7588c607",
   "metadata": {},
   "outputs": [
    {
     "data": {
      "text/plain": [
       "731"
      ]
     },
     "execution_count": 17,
     "metadata": {},
     "output_type": "execute_result"
    }
   ],
   "source": [
    "mother_called = quotebank.loc[quotebank['quotation'].str.contains(\"mother\", case=False)]\n",
    "mother_called.head(2)\n",
    "len(mother_called)"
   ]
  },
  {
   "cell_type": "code",
   "execution_count": 23,
   "id": "42e07713",
   "metadata": {},
   "outputs": [
    {
     "data": {
      "text/plain": [
       "1741"
      ]
     },
     "execution_count": 23,
     "metadata": {},
     "output_type": "execute_result"
    }
   ],
   "source": [
    "men_called = quotebank.loc[quotebank['quotation'].str.contains(\" men\", case=False)]\n",
    "men_called.head(2)\n",
    "len(men_called)"
   ]
  },
  {
   "cell_type": "code",
   "execution_count": 25,
   "id": "cc527e37",
   "metadata": {},
   "outputs": [
    {
     "data": {
      "text/plain": [
       "1786"
      ]
     },
     "execution_count": 25,
     "metadata": {},
     "output_type": "execute_result"
    }
   ],
   "source": [
    "#Empty space important to distinguish between woman, human, s...man\n",
    "man_called = quotebank.loc[quotebank['quotation'].str.contains(\" man\", case=False)]\n",
    "man_called.head(2)\n",
    "len(man_called)"
   ]
  },
  {
   "cell_type": "code",
   "execution_count": 18,
   "id": "f12812e3",
   "metadata": {},
   "outputs": [
    {
     "data": {
      "text/plain": [
       "620"
      ]
     },
     "execution_count": 18,
     "metadata": {},
     "output_type": "execute_result"
    }
   ],
   "source": [
    "father_called = quotebank.loc[quotebank['quotation'].str.contains(\"father\", case=False)]\n",
    "father_called.head(2)\n",
    "len(father_called)"
   ]
  },
  {
   "cell_type": "code",
   "execution_count": 16,
   "id": "d6b58d9e",
   "metadata": {},
   "outputs": [
    {
     "data": {
      "text/plain": [
       "694"
      ]
     },
     "execution_count": 16,
     "metadata": {},
     "output_type": "execute_result"
    }
   ],
   "source": [
    "boy_called = quotebank.loc[quotebank['quotation'].str.contains(\"boy\", case=False)]\n",
    "boy_called.head(2)\n",
    "len(boy_called)"
   ]
  },
  {
   "cell_type": "markdown",
   "id": "ad3c032b",
   "metadata": {},
   "source": [
    "### Women as speakers representation"
   ]
  },
  {
   "cell_type": "code",
   "execution_count": null,
   "id": "4b8fc245",
   "metadata": {},
   "outputs": [],
   "source": []
  },
  {
   "cell_type": "markdown",
   "id": "04c9656e",
   "metadata": {},
   "source": [
    "## Climate Change"
   ]
  },
  {
   "cell_type": "code",
   "execution_count": 26,
   "id": "ae1bbeb0",
   "metadata": {},
   "outputs": [
    {
     "data": {
      "text/plain": [
       "337"
      ]
     },
     "execution_count": 26,
     "metadata": {},
     "output_type": "execute_result"
    }
   ],
   "source": [
    "climatechange_mentions = quotebank.loc[quotebank['quotation'].str.contains(\"climate change\", case=False)]\n",
    "climatechange_mentions.head(2)\n",
    "len(climatechange_mentions)"
   ]
  },
  {
   "cell_type": "code",
   "execution_count": 27,
   "id": "51c2ceb7",
   "metadata": {},
   "outputs": [
    {
     "data": {
      "text/plain": [
       "10"
      ]
     },
     "execution_count": 27,
     "metadata": {},
     "output_type": "execute_result"
    }
   ],
   "source": [
    "CO2_mentions = quotebank.loc[quotebank['quotation'].str.contains(\"carbon dioxide\", case=False)]\n",
    "CO2_mentions.head(2)\n",
    "len(CO2_mentions)"
   ]
  },
  {
   "cell_type": "code",
   "execution_count": 28,
   "id": "8a660f5d",
   "metadata": {},
   "outputs": [
    {
     "data": {
      "text/plain": [
       "11"
      ]
     },
     "execution_count": 28,
     "metadata": {},
     "output_type": "execute_result"
    }
   ],
   "source": [
    "Kardashian_mentions = quotebank.loc[quotebank['quotation'].str.contains(\"Kardashian\", case=False)]\n",
    "Kardashian_mentions.head(2)\n",
    "len(Kardashian_mentions)"
   ]
  },
  {
   "cell_type": "code",
   "execution_count": 29,
   "id": "e0e3ebcb",
   "metadata": {},
   "outputs": [
    {
     "data": {
      "text/plain": [
       "40"
      ]
     },
     "execution_count": 29,
     "metadata": {},
     "output_type": "execute_result"
    }
   ],
   "source": [
    "Kardashian_speaker = quotebank.loc[quotebank['speaker'].str.contains(\"Kardashian\", case=False)]\n",
    "Kardashian_speaker.head(2)\n",
    "len(Kardashian_speaker)"
   ]
  },
  {
   "cell_type": "code",
   "execution_count": 30,
   "id": "9cfc29c3",
   "metadata": {},
   "outputs": [
    {
     "data": {
      "text/plain": [
       "38"
      ]
     },
     "execution_count": 30,
     "metadata": {},
     "output_type": "execute_result"
    }
   ],
   "source": [
    "Kardashian_speaker = quotebank.loc[quotebank['speaker'].str.contains(\"Kim Kardashian\", case=False)]\n",
    "Kardashian_speaker.head(2)\n",
    "len(Kardashian_speaker)"
   ]
  },
  {
   "cell_type": "code",
   "execution_count": 41,
   "id": "8ec2c031",
   "metadata": {},
   "outputs": [
    {
     "data": {
      "text/plain": [
       "speaker\n",
       "None                      75582\n",
       "President Donald Trump     2217\n",
       "President Trump            1919\n",
       "Elizabeth Warren            783\n",
       "Joe Biden                   762\n",
       "                          ...  \n",
       "Jill Biden                   77\n",
       "Elon Musk                    76\n",
       "Elena Kagan                  76\n",
       "Michael Bennet               76\n",
       "James Poniewozik             75\n",
       "Name: quotation, Length: 100, dtype: int64"
      ]
     },
     "execution_count": 41,
     "metadata": {},
     "output_type": "execute_result"
    }
   ],
   "source": [
    "quotebank.groupby(by=\"speaker\").count().sort_values(by=\"quotation\", ascending=False).quotation.head(100)"
   ]
  },
  {
   "cell_type": "code",
   "execution_count": null,
   "id": "29e53af2",
   "metadata": {},
   "outputs": [],
   "source": []
  }
 ],
 "metadata": {
  "kernelspec": {
   "display_name": "Python 3 (ipykernel)",
   "language": "python",
   "name": "python3"
  },
  "language_info": {
   "codemirror_mode": {
    "name": "ipython",
    "version": 3
   },
   "file_extension": ".py",
   "mimetype": "text/x-python",
   "name": "python",
   "nbconvert_exporter": "python",
   "pygments_lexer": "ipython3",
   "version": "3.8.11"
  }
 },
 "nbformat": 4,
 "nbformat_minor": 5
}
